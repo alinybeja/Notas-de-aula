{
  "nbformat": 4,
  "nbformat_minor": 0,
  "metadata": {
    "colab": {
      "provenance": [],
      "authorship_tag": "ABX9TyNiontsM1wYItyzcjyEoaW7",
      "include_colab_link": true
    },
    "kernelspec": {
      "name": "python3",
      "display_name": "Python 3"
    },
    "language_info": {
      "name": "python"
    }
  },
  "cells": [
    {
      "cell_type": "markdown",
      "metadata": {
        "id": "view-in-github",
        "colab_type": "text"
      },
      "source": [
        "<a href=\"https://colab.research.google.com/github/alinybeja/Notas-de-aula/blob/main/Untitled.ipynb\" target=\"_parent\"><img src=\"https://colab.research.google.com/assets/colab-badge.svg\" alt=\"Open In Colab\"/></a>"
      ]
    },
    {
      "cell_type": "markdown",
      "source": [
        "# Aula 3 #\n",
        "\n",
        "30/03"
      ],
      "metadata": {
        "id": "0Tmzek6Bdy9H"
      }
    },
    {
      "cell_type": "markdown",
      "source": [
        "Python Programming - Livro Sugerido"
      ],
      "metadata": {
        "id": "G0Zge2Eugyc2"
      }
    },
    {
      "cell_type": "code",
      "source": [
        "a = 1 + 2\n",
        "print(a)\n",
        "type(a)"
      ],
      "metadata": {
        "colab": {
          "base_uri": "https://localhost:8080/"
        },
        "id": "q7hXMpgJgdUi",
        "outputId": "b0e31ae3-4c79-4b35-bff4-a881e158f3bc"
      },
      "execution_count": null,
      "outputs": [
        {
          "output_type": "stream",
          "name": "stdout",
          "text": [
            "3\n"
          ]
        },
        {
          "output_type": "execute_result",
          "data": {
            "text/plain": [
              "int"
            ]
          },
          "metadata": {},
          "execution_count": 4
        }
      ]
    },
    {
      "cell_type": "code",
      "source": [
        "a = \"Aliny\"\n",
        "print(a)\n",
        "type(a)"
      ],
      "metadata": {
        "colab": {
          "base_uri": "https://localhost:8080/"
        },
        "id": "x4UR9q3LhnlU",
        "outputId": "3dc2193f-44ca-4a13-d5cb-194f75e1f490"
      },
      "execution_count": null,
      "outputs": [
        {
          "output_type": "stream",
          "name": "stdout",
          "text": [
            "Aliny\n"
          ]
        },
        {
          "output_type": "execute_result",
          "data": {
            "text/plain": [
              "str"
            ]
          },
          "metadata": {},
          "execution_count": 5
        }
      ]
    },
    {
      "cell_type": "code",
      "source": [
        "salario_bruto = 5000\n",
        "sb = 5000 # sb é o Salário Bruto\n",
        "del salario_bruto # del deleta a variável"
      ],
      "metadata": {
        "id": "lI_tJrARh236"
      },
      "execution_count": null,
      "outputs": []
    },
    {
      "cell_type": "code",
      "source": [
        "nome = \"Aliny\"\n",
        "Aliny = nome\n",
        "print(type(Aliny))\n",
        "print(Aliny)"
      ],
      "metadata": {
        "colab": {
          "base_uri": "https://localhost:8080/"
        },
        "id": "Zzx-FU3-jdjS",
        "outputId": "4fc7c486-0545-4337-c72b-0b1cb243dcd9"
      },
      "execution_count": null,
      "outputs": [
        {
          "output_type": "stream",
          "name": "stdout",
          "text": [
            "<class 'str'>\n",
            "Aliny\n"
          ]
        }
      ]
    },
    {
      "cell_type": "code",
      "source": [
        "nome = \"Alice\"\n",
        "nome_completo = nome + \" Maria\" # ou nome + \" \" + \"Maria\"\n",
        "print(nome_completo)"
      ],
      "metadata": {
        "colab": {
          "base_uri": "https://localhost:8080/"
        },
        "id": "RfCpuqqwkURP",
        "outputId": "15542568-c3c4-4fc3-cb05-4dbcd9a42187"
      },
      "execution_count": null,
      "outputs": [
        {
          "output_type": "stream",
          "name": "stdout",
          "text": [
            "Alice Maria\n"
          ]
        }
      ]
    },
    {
      "cell_type": "code",
      "source": [
        "a = \"bla\"\n",
        "print(a*10)\n",
        "# também serve usar a = a*10"
      ],
      "metadata": {
        "colab": {
          "base_uri": "https://localhost:8080/"
        },
        "id": "0SYd1REflNu0",
        "outputId": "a32dff24-efe3-42bb-8fe6-bcf18bb2900c"
      },
      "execution_count": null,
      "outputs": [
        {
          "output_type": "stream",
          "name": "stdout",
          "text": [
            "blablablablablablablablablabla\n"
          ]
        }
      ]
    },
    {
      "cell_type": "code",
      "source": [
        "frase = 'Aliny disse: \"O céu está lindo\"'\n",
        "print(nome)"
      ],
      "metadata": {
        "colab": {
          "base_uri": "https://localhost:8080/"
        },
        "id": "nQMJDxdIlpuw",
        "outputId": "35d91a3c-a266-4cf5-c6ee-f406efe2b03b"
      },
      "execution_count": null,
      "outputs": [
        {
          "output_type": "stream",
          "name": "stdout",
          "text": [
            "Aliny disse: \"O céu está lindo\"\n"
          ]
        }
      ]
    },
    {
      "cell_type": "code",
      "source": [
        "texto = \" \\'Parte A\\' + \\\"Parte B\\\" \"\n",
        "print(texto)"
      ],
      "metadata": {
        "colab": {
          "base_uri": "https://localhost:8080/"
        },
        "id": "5j0hR1hhmyyb",
        "outputId": "515ddd06-f0ff-4457-8b53-909e4e2c163a"
      },
      "execution_count": null,
      "outputs": [
        {
          "output_type": "stream",
          "name": "stdout",
          "text": [
            " 'Parte A' + \"Parte B\" \n"
          ]
        }
      ]
    },
    {
      "cell_type": "code",
      "source": [
        "# para colocar \\:\n",
        "b = \"\\\\\"\n",
        "print(b)"
      ],
      "metadata": {
        "colab": {
          "base_uri": "https://localhost:8080/"
        },
        "id": "ShxGS-jqn9EY",
        "outputId": "f81717f4-eb4f-473c-eacb-ca7776e9d7c9"
      },
      "execution_count": null,
      "outputs": [
        {
          "output_type": "stream",
          "name": "stdout",
          "text": [
            "\\\n"
          ]
        }
      ]
    },
    {
      "cell_type": "code",
      "source": [
        "texto = \"Primeira Linha\\nSegunda Linha\"\n",
        "print(texto)"
      ],
      "metadata": {
        "colab": {
          "base_uri": "https://localhost:8080/"
        },
        "id": "CJ6rIFfupf9k",
        "outputId": "6727b065-7ec6-4a4e-977d-1c2f7f5c4349"
      },
      "execution_count": null,
      "outputs": [
        {
          "output_type": "stream",
          "name": "stdout",
          "text": [
            "Primeira Linha\n",
            "Segunda Linha\n"
          ]
        }
      ]
    },
    {
      "cell_type": "code",
      "source": [
        "texto = \"\"\"\n",
        "Lista de Compras:\n",
        "• Batata\n",
        "• Hambúrguer\n",
        "• Refrigerante\n",
        "\"\"\"\n",
        "print(texto)"
      ],
      "metadata": {
        "id": "k2-CFg99pvsq"
      },
      "execution_count": null,
      "outputs": []
    },
    {
      "cell_type": "code",
      "source": [
        "# patorjk"
      ],
      "metadata": {
        "id": "AthPo3DFqXX7"
      },
      "execution_count": null,
      "outputs": []
    },
    {
      "cell_type": "code",
      "source": [
        "a = 10000\n",
        "b = 2000\n",
        "print(a,b)\n",
        "tmp = a #tmp/temp = variável temporária\n",
        "a = b\n",
        "b = tmp\n",
        "print(a,b)"
      ],
      "metadata": {
        "colab": {
          "base_uri": "https://localhost:8080/"
        },
        "id": "a4tB_RBLrCBS",
        "outputId": "f951efb4-de63-4753-eaab-aed1a1f8b270"
      },
      "execution_count": null,
      "outputs": [
        {
          "output_type": "stream",
          "name": "stdout",
          "text": [
            "10000 2000\n",
            "2000 10000\n"
          ]
        }
      ]
    },
    {
      "cell_type": "code",
      "source": [
        "a = 10000\n",
        "b = 2000\n",
        "a = a + b\n",
        "b = a - b\n",
        "a = a - b\n",
        "print(a,b)"
      ],
      "metadata": {
        "colab": {
          "base_uri": "https://localhost:8080/"
        },
        "id": "qlxbzRoDsqN6",
        "outputId": "637d2ba1-c393-4600-b219-d64758462c0f"
      },
      "execution_count": null,
      "outputs": [
        {
          "output_type": "stream",
          "name": "stdout",
          "text": [
            "2000 10000\n"
          ]
        }
      ]
    },
    {
      "cell_type": "code",
      "source": [
        "c = \"bla\\n\"*10\n",
        "print(c)"
      ],
      "metadata": {
        "colab": {
          "base_uri": "https://localhost:8080/"
        },
        "id": "zCq0yIXIt4Fl",
        "outputId": "64c96312-bbcb-48c3-e69c-e5ad5dafbe4e"
      },
      "execution_count": null,
      "outputs": [
        {
          "output_type": "stream",
          "name": "stdout",
          "text": [
            "bla\n",
            "bla\n",
            "bla\n",
            "bla\n",
            "bla\n",
            "bla\n",
            "bla\n",
            "bla\n",
            "bla\n",
            "bla\n",
            "\n"
          ]
        }
      ]
    },
    {
      "cell_type": "code",
      "source": [
        "\n",
        "a = 10000\n",
        "b = 2000\n",
        "a,b = b,a #só funciona no Python\n",
        "print(a,b)"
      ],
      "metadata": {
        "colab": {
          "base_uri": "https://localhost:8080/"
        },
        "id": "kjslgBl8uWRi",
        "outputId": "d3be1f28-8ec4-44d6-e212-2d8005f0f8fb"
      },
      "execution_count": null,
      "outputs": [
        {
          "output_type": "stream",
          "name": "stdout",
          "text": [
            "2000 10000\n"
          ]
        }
      ]
    },
    {
      "cell_type": "code",
      "source": [
        "# Mini Programa em Python\n",
        "nome = input(\"Digite seu nome: \")\n",
        "idade = int(input(\"Digite sua idade: \")) # colocar int porque o input devolve uma string\n",
        "print(\"Nossa \", nome, \", parece que você tem \", idade*2, \" anos\")"
      ],
      "metadata": {
        "colab": {
          "base_uri": "https://localhost:8080/"
        },
        "id": "4dCcO2rJuzWW",
        "outputId": "0f65dd7c-511b-478c-daa9-63e73e3a986e"
      },
      "execution_count": null,
      "outputs": [
        {
          "output_type": "stream",
          "name": "stdout",
          "text": [
            "Digite seu nome: Marco\n",
            "Digite sua idade: 25\n",
            "Nossa  Marco , parece que você tem  50  anos\n"
          ]
        }
      ]
    },
    {
      "cell_type": "code",
      "source": [
        "idade = int(input(\"Digite sua idade: \"))\n",
        "a = idade\n",
        "if a < 18:\n",
        "  print(\"Desculpe, você não pode usar esse site. Vá estudar.\")\n",
        "elif 18 <= a <= 60:\n",
        "  print(\"Olá, seja bem-vindo.\")\n",
        "elif a > 60:\n",
        "  print(\"Aproveite a vida\")"
      ],
      "metadata": {
        "id": "EwL8jcGAxr-z"
      },
      "execution_count": null,
      "outputs": []
    },
    {
      "cell_type": "code",
      "source": [
        "idade = int(input(\"Digite sua idade:\")"
      ],
      "metadata": {
        "colab": {
          "base_uri": "https://localhost:8080/",
          "height": 201
        },
        "id": "iIo1eUrY6yMJ",
        "outputId": "f7314484-32c3-4ebb-cd9c-fe9426338903"
      },
      "execution_count": null,
      "outputs": [
        {
          "output_type": "error",
          "ename": "SyntaxError",
          "evalue": "ignored",
          "traceback": [
            "\u001b[0;36m  File \u001b[0;32m\"<ipython-input-44-a7445503b6ee>\"\u001b[0;36m, line \u001b[0;32m1\u001b[0m\n\u001b[0;31m    idade = int(input(\"Digite sua idade:\")\u001b[0m\n\u001b[0m                                          ^\u001b[0m\n\u001b[0;31mSyntaxError\u001b[0m\u001b[0;31m:\u001b[0m unexpected EOF while parsing\n"
          ]
        }
      ]
    },
    {
      "cell_type": "code",
      "source": [
        "\"São Paulo\" > \"Corinthians\""
      ],
      "metadata": {
        "colab": {
          "base_uri": "https://localhost:8080/"
        },
        "id": "YF16RdOPy_dp",
        "outputId": "4ea6e632-a05b-4ab2-e96e-05cc8154b15b"
      },
      "execution_count": null,
      "outputs": [
        {
          "output_type": "execute_result",
          "data": {
            "text/plain": [
              "True"
            ]
          },
          "metadata": {},
          "execution_count": 41
        }
      ]
    },
    {
      "cell_type": "markdown",
      "source": [
        "# Aula 4 #\n",
        "31/03"
      ],
      "metadata": {
        "id": "TvXvi-Oofgqy"
      }
    },
    {
      "cell_type": "code",
      "source": [
        "\n",
        "idade = 20\n",
        "a = idade >= 18\n",
        "print(a)"
      ],
      "metadata": {
        "colab": {
          "base_uri": "https://localhost:8080/"
        },
        "id": "AMGqo9i0fosI",
        "outputId": "a70385a5-9fd7-46cb-8d8f-46ea9f2f0bc8"
      },
      "execution_count": null,
      "outputs": [
        {
          "output_type": "stream",
          "name": "stdout",
          "text": [
            "True\n"
          ]
        }
      ]
    },
    {
      "cell_type": "code",
      "source": [
        "type(a)"
      ],
      "metadata": {
        "colab": {
          "base_uri": "https://localhost:8080/"
        },
        "id": "I-zGu2P9f_M1",
        "outputId": "3aa3c253-4d5e-461c-9c26-6917cd0057fc"
      },
      "execution_count": null,
      "outputs": [
        {
          "output_type": "execute_result",
          "data": {
            "text/plain": [
              "bool"
            ]
          },
          "metadata": {},
          "execution_count": 3
        }
      ]
    },
    {
      "cell_type": "markdown",
      "source": [
        "== igual\n",
        "\n",
        "!= diferente\n",
        "\n",
        "/ divisão\n",
        "\n",
        "// divisão inteira\n",
        "\n",
        "% resto da divisão\n",
        "\n",
        "Em C:\n",
        "True = 1\n",
        "False = 0\n",
        "Divisão somente com /"
      ],
      "metadata": {
        "id": "ISaYyhm8gNL-"
      }
    },
    {
      "cell_type": "code",
      "source": [
        "numero = int(input(\"Digite um número: \"))\n",
        "if numero % 2 == 0:\n",
        "  print(\"Você escolheu um número par\")\n",
        "else:\n",
        "  print(\"Você escolheu um número ímpar\")"
      ],
      "metadata": {
        "colab": {
          "base_uri": "https://localhost:8080/"
        },
        "id": "2xJsd6QFgJ7V",
        "outputId": "5668f1a2-3008-4f4f-ee53-faad792ba509"
      },
      "execution_count": null,
      "outputs": [
        {
          "output_type": "stream",
          "name": "stdout",
          "text": [
            "Digite um número: 4\n",
            "Você escolheu um número par\n"
          ]
        }
      ]
    },
    {
      "cell_type": "code",
      "source": [
        "a = 5\n",
        "b = 0\n",
        "while b <= 100:\n",
        "  b = b + 10\n",
        "  c = a + b\n",
        "print(a, b, c)"
      ],
      "metadata": {
        "colab": {
          "base_uri": "https://localhost:8080/"
        },
        "id": "n0ZfYBqPi2Ra",
        "outputId": "2f66fb1f-82ad-474f-e963-9efea4c0a2fa"
      },
      "execution_count": null,
      "outputs": [
        {
          "output_type": "stream",
          "name": "stdout",
          "text": [
            "5 110 115\n"
          ]
        }
      ]
    },
    {
      "cell_type": "code",
      "source": [
        "i = 1\n",
        "while i < 10:\n",
        "  i = i + 1\n",
        "  print(i)"
      ],
      "metadata": {
        "id": "7HJud9Ukk2s8",
        "colab": {
          "base_uri": "https://localhost:8080/"
        },
        "outputId": "ee0ce63c-218e-4bc7-b5e2-30fdecfe6233"
      },
      "execution_count": null,
      "outputs": [
        {
          "output_type": "stream",
          "name": "stdout",
          "text": [
            "2\n",
            "3\n",
            "4\n",
            "5\n",
            "6\n",
            "7\n",
            "8\n",
            "9\n",
            "10\n"
          ]
        }
      ]
    },
    {
      "cell_type": "code",
      "source": [
        "i = 1\n",
        "while i <= 10:\n",
        "  i = i + 1\n",
        "  print(i)"
      ],
      "metadata": {
        "colab": {
          "base_uri": "https://localhost:8080/"
        },
        "id": "sFnKjgcBm7j4",
        "outputId": "7419b985-dcbd-420a-a370-45524c18dbeb"
      },
      "execution_count": null,
      "outputs": [
        {
          "output_type": "stream",
          "name": "stdout",
          "text": [
            "2\n",
            "3\n",
            "4\n",
            "5\n",
            "6\n",
            "7\n",
            "8\n",
            "9\n",
            "10\n",
            "11\n"
          ]
        }
      ]
    },
    {
      "cell_type": "code",
      "source": [
        "i = 0\n",
        "while i < 10:\n",
        "  i = i + 1\n",
        "  print(i)"
      ],
      "metadata": {
        "colab": {
          "base_uri": "https://localhost:8080/"
        },
        "id": "S_8bwg7KnWL8",
        "outputId": "08e888d8-fe32-4749-f5d1-a552429793ef"
      },
      "execution_count": null,
      "outputs": [
        {
          "output_type": "stream",
          "name": "stdout",
          "text": [
            "1\n",
            "2\n",
            "3\n",
            "4\n",
            "5\n",
            "6\n",
            "7\n",
            "8\n",
            "9\n",
            "10\n"
          ]
        }
      ]
    },
    {
      "cell_type": "code",
      "source": [
        "n = int(input(\"Digite n: \"))\n",
        "soma = 0\n",
        "i = 1\n",
        "while i <= n:\n",
        "  soma = soma + i\n",
        "  i = i + 1\n",
        "print(\"A soma é\", soma)"
      ],
      "metadata": {
        "colab": {
          "base_uri": "https://localhost:8080/"
        },
        "id": "1jjnZXajoWil",
        "outputId": "45d20b65-6186-4a1b-f8b8-264c79854e72"
      },
      "execution_count": null,
      "outputs": [
        {
          "output_type": "stream",
          "name": "stdout",
          "text": [
            "Digite n: 4\n",
            "A soma é 10\n"
          ]
        }
      ]
    },
    {
      "cell_type": "code",
      "source": [
        "# Resolução alternativa\n",
        "n = int(input(\"Digite n: \"))\n",
        "soma = (1 + n)*n//2\n",
        "print(soma)"
      ],
      "metadata": {
        "id": "r5GydrH_qChw",
        "colab": {
          "base_uri": "https://localhost:8080/"
        },
        "outputId": "2d04e0d3-08ee-4dd8-84b0-da137a62930a"
      },
      "execution_count": null,
      "outputs": [
        {
          "output_type": "stream",
          "name": "stdout",
          "text": [
            "Digite n: 2\n",
            "3\n"
          ]
        }
      ]
    },
    {
      "cell_type": "code",
      "source": [
        "\n",
        "n = int(input(\"Digite n: \"))\n",
        "fat = 1 # Elemento neutro da multiplicação\n",
        "i = 1\n",
        "while i <= n:\n",
        "  fat = fat * i\n",
        "  i = i + 1\n",
        "print(n, \"! é igual a\",fat)"
      ],
      "metadata": {
        "colab": {
          "base_uri": "https://localhost:8080/"
        },
        "id": "Ie9VfAD7uXlS",
        "outputId": "2a3daaa4-e034-428f-8ae4-ea7d111894b7"
      },
      "execution_count": null,
      "outputs": [
        {
          "output_type": "stream",
          "name": "stdout",
          "text": [
            "Digite n: 5\n",
            "5 ! é igual a 120\n"
          ]
        }
      ]
    },
    {
      "cell_type": "code",
      "source": [
        "n = int(input(\"Digite n: \"))\n",
        "n_salvo = n\n",
        "fat = 1\n",
        "i = n\n",
        "while n > 0:\n",
        "  fat = fat * n\n",
        "  n = n - 1\n",
        "print(fat)"
      ],
      "metadata": {
        "colab": {
          "base_uri": "https://localhost:8080/"
        },
        "id": "ONf-6NebwXgM",
        "outputId": "9c100caa-7ce9-4179-bf05-9d575f1285bd"
      },
      "execution_count": null,
      "outputs": [
        {
          "output_type": "stream",
          "name": "stdout",
          "text": [
            "Digite n: 5\n",
            "120\n"
          ]
        }
      ]
    }
  ]
}